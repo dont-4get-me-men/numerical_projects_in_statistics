{
 "cells": [
  {
   "cell_type": "code",
   "execution_count": 1,
   "id": "525979a4",
   "metadata": {},
   "outputs": [
    {
     "name": "stderr",
     "output_type": "stream",
     "text": [
      "Loading required package: ggplot2\n",
      "\n",
      "Loading required package: lattice\n",
      "\n"
     ]
    }
   ],
   "source": [
    "library('caret')\n",
    "library('MASS')\n",
    "library('rpart')"
   ]
  },
  {
   "cell_type": "code",
   "execution_count": 2,
   "id": "d196fd2d",
   "metadata": {},
   "outputs": [],
   "source": [
    "df <- read.table(\"Sparrow_data.txt\",header = TRUE)\n",
    "df <- df[,-1]"
   ]
  },
  {
   "cell_type": "code",
   "execution_count": 3,
   "id": "bb6076fd",
   "metadata": {},
   "outputs": [
    {
     "data": {
      "text/html": [
       "<table class=\"dataframe\">\n",
       "<caption>A data.frame: 6 × 12</caption>\n",
       "<thead>\n",
       "\t<tr><th></th><th scope=col>sex</th><th scope=col>age</th><th scope=col>survival</th><th scope=col>length</th><th scope=col>alar</th><th scope=col>weight</th><th scope=col>head</th><th scope=col>humerus</th><th scope=col>femur</th><th scope=col>tibiotarsus</th><th scope=col>skull</th><th scope=col>keel</th></tr>\n",
       "\t<tr><th></th><th scope=col>&lt;chr&gt;</th><th scope=col>&lt;chr&gt;</th><th scope=col>&lt;lgl&gt;</th><th scope=col>&lt;int&gt;</th><th scope=col>&lt;int&gt;</th><th scope=col>&lt;dbl&gt;</th><th scope=col>&lt;dbl&gt;</th><th scope=col>&lt;dbl&gt;</th><th scope=col>&lt;dbl&gt;</th><th scope=col>&lt;dbl&gt;</th><th scope=col>&lt;dbl&gt;</th><th scope=col>&lt;dbl&gt;</th></tr>\n",
       "</thead>\n",
       "<tbody>\n",
       "\t<tr><th scope=row>1</th><td>m</td><td>a</td><td> TRUE</td><td>154</td><td>241</td><td>24.5</td><td>31.2</td><td>0.687</td><td>0.668</td><td>1.022</td><td>0.587</td><td>0.830</td></tr>\n",
       "\t<tr><th scope=row>2</th><td>m</td><td>a</td><td>FALSE</td><td>165</td><td>240</td><td>26.5</td><td>31.0</td><td>0.738</td><td>0.704</td><td>1.095</td><td>0.606</td><td>0.847</td></tr>\n",
       "\t<tr><th scope=row>3</th><td>m</td><td>a</td><td>FALSE</td><td>160</td><td>245</td><td>26.1</td><td>32.0</td><td>0.736</td><td>0.709</td><td>1.109</td><td>0.611</td><td>0.842</td></tr>\n",
       "\t<tr><th scope=row>4</th><td>m</td><td>a</td><td> TRUE</td><td>160</td><td>252</td><td>26.9</td><td>30.8</td><td>0.736</td><td>0.709</td><td>1.180</td><td>0.602</td><td>0.841</td></tr>\n",
       "\t<tr><th scope=row>5</th><td>m</td><td>a</td><td> TRUE</td><td>155</td><td>243</td><td>26.9</td><td>30.6</td><td>0.733</td><td>0.704</td><td>1.151</td><td>0.602</td><td>0.846</td></tr>\n",
       "\t<tr><th scope=row>6</th><td>m</td><td>a</td><td>FALSE</td><td>161</td><td>249</td><td>25.6</td><td>32.3</td><td>0.743</td><td>0.718</td><td>1.128</td><td>0.602</td><td>0.828</td></tr>\n",
       "</tbody>\n",
       "</table>\n"
      ],
      "text/latex": [
       "A data.frame: 6 × 12\n",
       "\\begin{tabular}{r|llllllllllll}\n",
       "  & sex & age & survival & length & alar & weight & head & humerus & femur & tibiotarsus & skull & keel\\\\\n",
       "  & <chr> & <chr> & <lgl> & <int> & <int> & <dbl> & <dbl> & <dbl> & <dbl> & <dbl> & <dbl> & <dbl>\\\\\n",
       "\\hline\n",
       "\t1 & m & a &  TRUE & 154 & 241 & 24.5 & 31.2 & 0.687 & 0.668 & 1.022 & 0.587 & 0.830\\\\\n",
       "\t2 & m & a & FALSE & 165 & 240 & 26.5 & 31.0 & 0.738 & 0.704 & 1.095 & 0.606 & 0.847\\\\\n",
       "\t3 & m & a & FALSE & 160 & 245 & 26.1 & 32.0 & 0.736 & 0.709 & 1.109 & 0.611 & 0.842\\\\\n",
       "\t4 & m & a &  TRUE & 160 & 252 & 26.9 & 30.8 & 0.736 & 0.709 & 1.180 & 0.602 & 0.841\\\\\n",
       "\t5 & m & a &  TRUE & 155 & 243 & 26.9 & 30.6 & 0.733 & 0.704 & 1.151 & 0.602 & 0.846\\\\\n",
       "\t6 & m & a & FALSE & 161 & 249 & 25.6 & 32.3 & 0.743 & 0.718 & 1.128 & 0.602 & 0.828\\\\\n",
       "\\end{tabular}\n"
      ],
      "text/markdown": [
       "\n",
       "A data.frame: 6 × 12\n",
       "\n",
       "| <!--/--> | sex &lt;chr&gt; | age &lt;chr&gt; | survival &lt;lgl&gt; | length &lt;int&gt; | alar &lt;int&gt; | weight &lt;dbl&gt; | head &lt;dbl&gt; | humerus &lt;dbl&gt; | femur &lt;dbl&gt; | tibiotarsus &lt;dbl&gt; | skull &lt;dbl&gt; | keel &lt;dbl&gt; |\n",
       "|---|---|---|---|---|---|---|---|---|---|---|---|---|\n",
       "| 1 | m | a |  TRUE | 154 | 241 | 24.5 | 31.2 | 0.687 | 0.668 | 1.022 | 0.587 | 0.830 |\n",
       "| 2 | m | a | FALSE | 165 | 240 | 26.5 | 31.0 | 0.738 | 0.704 | 1.095 | 0.606 | 0.847 |\n",
       "| 3 | m | a | FALSE | 160 | 245 | 26.1 | 32.0 | 0.736 | 0.709 | 1.109 | 0.611 | 0.842 |\n",
       "| 4 | m | a |  TRUE | 160 | 252 | 26.9 | 30.8 | 0.736 | 0.709 | 1.180 | 0.602 | 0.841 |\n",
       "| 5 | m | a |  TRUE | 155 | 243 | 26.9 | 30.6 | 0.733 | 0.704 | 1.151 | 0.602 | 0.846 |\n",
       "| 6 | m | a | FALSE | 161 | 249 | 25.6 | 32.3 | 0.743 | 0.718 | 1.128 | 0.602 | 0.828 |\n",
       "\n"
      ],
      "text/plain": [
       "  sex age survival length alar weight head humerus femur tibiotarsus skull\n",
       "1 m   a    TRUE    154    241  24.5   31.2 0.687   0.668 1.022       0.587\n",
       "2 m   a   FALSE    165    240  26.5   31.0 0.738   0.704 1.095       0.606\n",
       "3 m   a   FALSE    160    245  26.1   32.0 0.736   0.709 1.109       0.611\n",
       "4 m   a    TRUE    160    252  26.9   30.8 0.736   0.709 1.180       0.602\n",
       "5 m   a    TRUE    155    243  26.9   30.6 0.733   0.704 1.151       0.602\n",
       "6 m   a   FALSE    161    249  25.6   32.3 0.743   0.718 1.128       0.602\n",
       "  keel \n",
       "1 0.830\n",
       "2 0.847\n",
       "3 0.842\n",
       "4 0.841\n",
       "5 0.846\n",
       "6 0.828"
      ]
     },
     "metadata": {},
     "output_type": "display_data"
    }
   ],
   "source": [
    "head(df)"
   ]
  },
  {
   "cell_type": "code",
   "execution_count": 10,
   "id": "2bd0c990",
   "metadata": {},
   "outputs": [],
   "source": [
    "df[sapply(df, is.factor)] <- data.matrix(df[sapply(df, is.factor)])"
   ]
  },
  {
   "cell_type": "code",
   "execution_count": 5,
   "id": "aa8af83e",
   "metadata": {},
   "outputs": [
    {
     "data": {
      "text/plain": [
       "\n",
       "        f         m \n",
       "0.3602941 0.6397059 "
      ]
     },
     "metadata": {},
     "output_type": "display_data"
    }
   ],
   "source": [
    "prop.table(table(df$sex))"
   ]
  },
  {
   "cell_type": "code",
   "execution_count": 6,
   "id": "845fb91f",
   "metadata": {},
   "outputs": [
    {
     "data": {
      "text/plain": [
       "\n",
       "        f         m \n",
       "0.3645833 0.6354167 "
      ]
     },
     "metadata": {},
     "output_type": "display_data"
    }
   ],
   "source": [
    "set.seed(4)\n",
    "train_indices <- createDataPartition(df$sex, p = 0.7, list = FALSE)\n",
    "train <- df[train_indices, ]\n",
    "test <- df[-train_indices, ]\n",
    "prop.table(table(train$sex))"
   ]
  },
  {
   "cell_type": "markdown",
   "id": "878bdbdb",
   "metadata": {},
   "source": [
    "# LDA"
   ]
  },
  {
   "cell_type": "code",
   "execution_count": 7,
   "id": "b352421e",
   "metadata": {},
   "outputs": [
    {
     "name": "stderr",
     "output_type": "stream",
     "text": [
      "Warning message in lda.default(x, grouping, ...):\n",
      "“variables are collinear”\n"
     ]
    },
    {
     "data": {
      "text/plain": [
       "Call:\n",
       "lda(sex ~ ., data = train)\n",
       "\n",
       "Prior probabilities of groups:\n",
       "        f         m \n",
       "0.3645833 0.6354167 \n",
       "\n",
       "Group means:\n",
       "       agea      agey survivalTRUE   length     alar   weight     head\n",
       "f 0.0000000 0.0000000    0.4000000 157.8857 241.5143 24.96857 31.47429\n",
       "m 0.6885246 0.3114754    0.5737705 160.4426 247.3115 25.82787 31.65246\n",
       "    humerus     femur tibiotarsus  skull      keel\n",
       "f 0.7263143 0.7102571    1.136600 0.6006 0.8185429\n",
       "m 0.7333443 0.7133770    1.131705 0.6030 0.8511803\n",
       "\n",
       "Coefficients of linear discriminants:\n",
       "                      LD1\n",
       "agea           0.23010810\n",
       "agey          -0.23010810\n",
       "survivalTRUE   0.91254433\n",
       "length         0.07587057\n",
       "alar           0.20166672\n",
       "weight         0.31565803\n",
       "head          -0.11422399\n",
       "humerus      -21.75999095\n",
       "femur         -2.40883614\n",
       "tibiotarsus  -13.94443342\n",
       "skull        -18.32390122\n",
       "keel          10.51363976"
      ]
     },
     "metadata": {},
     "output_type": "display_data"
    }
   ],
   "source": [
    "model_1 <- lda(sex ~.,data = train)\n",
    "model_1"
   ]
  },
  {
   "cell_type": "code",
   "execution_count": 11,
   "id": "c042c0ed",
   "metadata": {},
   "outputs": [
    {
     "data": {
      "text/plain": [
       "      Predicted\n",
       "Actual  f  m\n",
       "     f 10  4\n",
       "     m  2 24"
      ]
     },
     "metadata": {},
     "output_type": "display_data"
    }
   ],
   "source": [
    "pred1 <- predict(model_1,test)$class\n",
    "table_results <- table(Actual = test$sex, Predicted = pred1)\n",
    "table_results"
   ]
  },
  {
   "cell_type": "code",
   "execution_count": 13,
   "id": "7c917d57",
   "metadata": {},
   "outputs": [
    {
     "name": "stdout",
     "output_type": "stream",
     "text": [
      "\n",
      "Precision female: 0.8333333\n",
      "Recall female 0.7142857\n",
      "Precision male: 0.8571429\n",
      "Recall male: 0.9230769"
     ]
    }
   ],
   "source": [
    "precisionf <- table_results[\"f\", \"f\"] / sum(table_results[, \"f\"])\n",
    "\n",
    "recallf <- table_results[\"f\", \"f\"] / sum(table_results[\"f\", ])\n",
    "cat(\"\\nPrecision female:\", precisionf)\n",
    "cat(\"\\nRecall female\",recallf)\n",
    "\n",
    "precisionm <- table_results[\"m\", \"m\"] / sum(table_results[, \"m\"])\n",
    "recallm <- table_results[\"m\", \"m\"] / sum(table_results[\"m\", ])\n",
    "cat(\"\\nPrecision male:\",precisionm)\n",
    "cat(\"\\nRecall male:\",recallm)"
   ]
  },
  {
   "cell_type": "markdown",
   "id": "03fd5f2b",
   "metadata": {},
   "source": [
    "recall  = TP/(TP+FN)\n",
    "precision = TP/(TP+FP)"
   ]
  },
  {
   "cell_type": "markdown",
   "id": "06227b90",
   "metadata": {},
   "source": [
    "Бачимо тут погану погані метрики для того, щоб прогнозувати і використовувати в подальшому цю модель. Спробуємо інші "
   ]
  },
  {
   "cell_type": "markdown",
   "id": "845be8f6",
   "metadata": {},
   "source": [
    "Спробуємо без параметрів age"
   ]
  },
  {
   "cell_type": "code",
   "execution_count": 14,
   "id": "5a66869e",
   "metadata": {},
   "outputs": [
    {
     "data": {
      "text/plain": [
       "      Predicted\n",
       "Actual  f  m\n",
       "     f 10  4\n",
       "     m  3 23"
      ]
     },
     "metadata": {},
     "output_type": "display_data"
    }
   ],
   "source": [
    "model_11 <- lda(sex ~.-age,data = train)\n",
    "pred12 <- predict(model_11,test)$class\n",
    "table_results <- table(Actual = test$sex, Predicted = pred12)\n",
    "table_results"
   ]
  },
  {
   "cell_type": "markdown",
   "id": "9decaa98",
   "metadata": {},
   "source": [
    "Як ми бачимо age ніяк не впливає на нашу модель.\n"
   ]
  },
  {
   "cell_type": "markdown",
   "id": "2730511d",
   "metadata": {},
   "source": [
    "# QDA"
   ]
  },
  {
   "cell_type": "code",
   "execution_count": 15,
   "id": "071cfe40",
   "metadata": {},
   "outputs": [
    {
     "data": {
      "text/plain": [
       "Call:\n",
       "qda(sex ~ . - age, data = train)\n",
       "\n",
       "Prior probabilities of groups:\n",
       "        f         m \n",
       "0.3645833 0.6354167 \n",
       "\n",
       "Group means:\n",
       "  survivalTRUE   length     alar   weight     head   humerus     femur\n",
       "f    0.4000000 157.8857 241.5143 24.96857 31.47429 0.7263143 0.7102571\n",
       "m    0.5737705 160.4426 247.3115 25.82787 31.65246 0.7333443 0.7133770\n",
       "  tibiotarsus  skull      keel\n",
       "f    1.136600 0.6006 0.8185429\n",
       "m    1.131705 0.6030 0.8511803"
      ]
     },
     "metadata": {},
     "output_type": "display_data"
    }
   ],
   "source": [
    "model_2 <- qda(sex ~.-age ,data = train)\n",
    "model_2"
   ]
  },
  {
   "cell_type": "code",
   "execution_count": 17,
   "id": "3cc9b7cd",
   "metadata": {},
   "outputs": [
    {
     "data": {
      "text/plain": [
       "      Predicted\n",
       "Actual  f  m\n",
       "     f 11  3\n",
       "     m  4 22"
      ]
     },
     "metadata": {},
     "output_type": "display_data"
    }
   ],
   "source": [
    "pred2 <- predict(model_2,test)$class\n",
    "table_results <- table(Actual = test$sex, Predicted = pred2)\n",
    "table_results"
   ]
  },
  {
   "cell_type": "code",
   "execution_count": 16,
   "id": "6de7697f",
   "metadata": {},
   "outputs": [
    {
     "name": "stdout",
     "output_type": "stream",
     "text": [
      "\n",
      "Precision female: 0.7692308\n",
      "Recall female 0.7142857\n",
      "Precision male: 0.8518519\n",
      "Recall male: 0.8846154"
     ]
    }
   ],
   "source": [
    "precisionmf <- table_results[\"f\", \"f\"] / sum(table_results[, \"f\"])\n",
    "\n",
    "recallmf <- table_results[\"f\", \"f\"] / sum(table_results[\"f\", ])\n",
    "cat(\"\\nPrecision female:\", precisionmf)\n",
    "cat(\"\\nRecall female\",recallmf)\n",
    "\n",
    "precisionmm <- table_results[\"m\", \"m\"] / sum(table_results[, \"m\"])\n",
    "recallmm <- table_results[\"m\", \"m\"] / sum(table_results[\"m\", ])\n",
    "cat(\"\\nPrecision male:\",precisionmm)\n",
    "cat(\"\\nRecall male:\",recallmm)"
   ]
  },
  {
   "cell_type": "markdown",
   "id": "5ff171e8",
   "metadata": {},
   "source": [
    "Судячи зі всього у нас доволі непогано покращились основні метрики для прогнозування жіночої статі, але це сталось за рахунок гіршого прогнозування чоловічого"
   ]
  },
  {
   "cell_type": "markdown",
   "id": "42a9bde8",
   "metadata": {},
   "source": [
    "# Tree"
   ]
  },
  {
   "cell_type": "code",
   "execution_count": 18,
   "id": "d17516dd",
   "metadata": {},
   "outputs": [],
   "source": [
    "tree <-rpart(sex~.-age,data = train,method = 'class')"
   ]
  },
  {
   "cell_type": "code",
   "execution_count": 19,
   "id": "7648f121",
   "metadata": {},
   "outputs": [
    {
     "data": {
      "image/png": "[encoded data removed]",
      "text/plain": [
       "plot without title"
      ]
     },
     "metadata": {
      "image/png": {
       "height": 420,
       "width": 420
      }
     },
     "output_type": "display_data"
    }
   ],
   "source": [
    "library('rpart.plot')\n",
    "rpart.plot(tree, yesno = 2, fallen.leaves = TRUE)"
   ]
  },
  {
   "cell_type": "code",
   "execution_count": 30,
   "id": "6d05699f",
   "metadata": {},
   "outputs": [
    {
     "data": {
      "text/plain": [
       "      Predicted\n",
       "Actual  f  m\n",
       "     f  8  6\n",
       "     m  7 19"
      ]
     },
     "metadata": {},
     "output_type": "display_data"
    }
   ],
   "source": [
    "tree_pred <- predict(tree,newdata=test,type ='class')\n",
    "table_results <- table(Actual = test$sex, Predicted = tree_pred)\n",
    "table_results"
   ]
  },
  {
   "cell_type": "code",
   "execution_count": 31,
   "id": "7f38ebd8",
   "metadata": {},
   "outputs": [
    {
     "name": "stdout",
     "output_type": "stream",
     "text": [
      "\n",
      "Precision female: 0.5333333\n",
      "Recall female 0.5714286\n",
      "Precision male: 0.76\n",
      "Recall male: 0.7307692"
     ]
    }
   ],
   "source": [
    "precisionmf <- table_results[\"f\", \"f\"] / sum(table_results[, \"f\"])\n",
    "\n",
    "recallmf <- table_results[\"f\", \"f\"] / sum(table_results[\"f\", ])\n",
    "cat(\"\\nPrecision female:\", precisionmf)\n",
    "cat(\"\\nRecall female\",recallmf)\n",
    "\n",
    "precisionmm <- table_results[\"m\", \"m\"] / sum(table_results[, \"m\"])\n",
    "recallmm <- table_results[\"m\", \"m\"] / sum(table_results[\"m\", ])\n",
    "cat(\"\\nPrecision male:\",precisionmm)\n",
    "cat(\"\\nRecall male:\",recallmm)"
   ]
  },
  {
   "cell_type": "markdown",
   "id": "4a95f064",
   "metadata": {},
   "source": [
    "Ми спробували спрогнозувати трьома моделями -> найкраще впоралась модель QDA."
   ]
  }
 ],
 "metadata": {
  "kernelspec": {
   "display_name": "R",
   "language": "R",
   "name": "ir"
  },
  "language_info": {
   "codemirror_mode": "r",
   "file_extension": ".r",
   "mimetype": "text/x-r-source",
   "name": "R",
   "pygments_lexer": "r",
   "version": "4.2.2"
  }
 },
 "nbformat": 4,
 "nbformat_minor": 5
}
